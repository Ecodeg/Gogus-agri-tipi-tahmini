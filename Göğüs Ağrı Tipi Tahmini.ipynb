{
 "cells": [
  {
   "cell_type": "code",
   "execution_count": 203,
   "id": "0209fa18",
   "metadata": {},
   "outputs": [],
   "source": [
    "import pandas as pd\n",
    "import numpy as np\n",
    "import matplotlib.pyplot as plt\n",
    "import seaborn as sbn"
   ]
  },
  {
   "cell_type": "code",
   "execution_count": 204,
   "id": "9f6296f9",
   "metadata": {},
   "outputs": [],
   "source": [
    "dataFrame=pd.read_excel(\"ah_kalbimmm.xlsx\")"
   ]
  },
  {
   "cell_type": "code",
   "execution_count": 205,
   "id": "579776c5",
   "metadata": {},
   "outputs": [],
   "source": [
    "dataFrame=dataFrame.drop(\"depresyon_ST\",axis=1)"
   ]
  },
  {
   "cell_type": "code",
   "execution_count": 206,
   "id": "43a267e2",
   "metadata": {},
   "outputs": [],
   "source": [
    "y=dataFrame[\"gogus_agrı_tipi\"].values\n",
    "x=dataFrame.drop(\"gogus_agrı_tipi\",axis=1).values"
   ]
  },
  {
   "cell_type": "code",
   "execution_count": 207,
   "id": "114844c5",
   "metadata": {},
   "outputs": [],
   "source": [
    "from sklearn.model_selection import train_test_split"
   ]
  },
  {
   "cell_type": "code",
   "execution_count": 208,
   "id": "c9382b33",
   "metadata": {},
   "outputs": [],
   "source": [
    "x_train,x_test,y_train,y_test=train_test_split(x,y,test_size=0.2,random_state=10)"
   ]
  },
  {
   "cell_type": "code",
   "execution_count": 209,
   "id": "d4084aad",
   "metadata": {},
   "outputs": [],
   "source": [
    "from sklearn.preprocessing import StandardScaler"
   ]
  },
  {
   "cell_type": "code",
   "execution_count": 210,
   "id": "10767c86",
   "metadata": {},
   "outputs": [],
   "source": [
    "scaler=StandardScaler()"
   ]
  },
  {
   "cell_type": "code",
   "execution_count": 211,
   "id": "d7e1f81f",
   "metadata": {},
   "outputs": [],
   "source": [
    "x_train=scaler.fit_transform(x_train)"
   ]
  },
  {
   "cell_type": "code",
   "execution_count": 212,
   "id": "79b369d6",
   "metadata": {},
   "outputs": [],
   "source": [
    "x_test=scaler.fit_transform(x_test)"
   ]
  },
  {
   "cell_type": "code",
   "execution_count": 213,
   "id": "28b3fa2c",
   "metadata": {},
   "outputs": [],
   "source": [
    "from tensorflow.keras.models import Sequential\n",
    "from tensorflow.keras.layers import Dense"
   ]
  },
  {
   "cell_type": "code",
   "execution_count": 214,
   "id": "1f2d5494",
   "metadata": {},
   "outputs": [],
   "source": [
    "model=Sequential()\n",
    "\n",
    "model.add(Dense(12,activation=\"relu\"))\n",
    "model.add(Dense(12,activation=\"relu\"))\n",
    "model.add(Dense(12,activation=\"relu\"))\n",
    "model.add(Dense(12,activation=\"relu\"))\n",
    "\n",
    "model.add(Dense(1))\n",
    "\n",
    "model.compile(optimizer=\"adam\",loss='mean_squared_error')"
   ]
  },
  {
   "cell_type": "code",
   "execution_count": 215,
   "id": "fd155591",
   "metadata": {},
   "outputs": [
    {
     "name": "stdout",
     "output_type": "stream",
     "text": [
      "Epoch 1/130\n",
      "25/25 [==============================] - 2s 15ms/step - loss: 1.7548 - val_loss: 1.5093\n",
      "Epoch 2/130\n",
      "25/25 [==============================] - 0s 4ms/step - loss: 1.3030 - val_loss: 1.1068\n",
      "Epoch 3/130\n",
      "25/25 [==============================] - 0s 5ms/step - loss: 1.0359 - val_loss: 0.9355\n",
      "Epoch 4/130\n",
      "25/25 [==============================] - 0s 5ms/step - loss: 0.9344 - val_loss: 0.8677\n",
      "Epoch 5/130\n",
      "25/25 [==============================] - 0s 5ms/step - loss: 0.8596 - val_loss: 0.8218\n",
      "Epoch 6/130\n",
      "25/25 [==============================] - 0s 4ms/step - loss: 0.8043 - val_loss: 0.7910\n",
      "Epoch 7/130\n",
      "25/25 [==============================] - 0s 4ms/step - loss: 0.7608 - val_loss: 0.7594\n",
      "Epoch 8/130\n",
      "25/25 [==============================] - 0s 4ms/step - loss: 0.7316 - val_loss: 0.7391\n",
      "Epoch 9/130\n",
      "25/25 [==============================] - 0s 4ms/step - loss: 0.6986 - val_loss: 0.7178\n",
      "Epoch 10/130\n",
      "25/25 [==============================] - 0s 4ms/step - loss: 0.6769 - val_loss: 0.7038\n",
      "Epoch 11/130\n",
      "25/25 [==============================] - 0s 4ms/step - loss: 0.6599 - val_loss: 0.6941\n",
      "Epoch 12/130\n",
      "25/25 [==============================] - 0s 4ms/step - loss: 0.6447 - val_loss: 0.6782\n",
      "Epoch 13/130\n",
      "25/25 [==============================] - 0s 4ms/step - loss: 0.6295 - val_loss: 0.6730\n",
      "Epoch 14/130\n",
      "25/25 [==============================] - 0s 4ms/step - loss: 0.6170 - val_loss: 0.6649\n",
      "Epoch 15/130\n",
      "25/25 [==============================] - 0s 4ms/step - loss: 0.6059 - val_loss: 0.6609\n",
      "Epoch 16/130\n",
      "25/25 [==============================] - 0s 5ms/step - loss: 0.5910 - val_loss: 0.6447\n",
      "Epoch 17/130\n",
      "25/25 [==============================] - 0s 4ms/step - loss: 0.5785 - val_loss: 0.6413\n",
      "Epoch 18/130\n",
      "25/25 [==============================] - 0s 4ms/step - loss: 0.5668 - val_loss: 0.6339\n",
      "Epoch 19/130\n",
      "25/25 [==============================] - 0s 4ms/step - loss: 0.5548 - val_loss: 0.6239\n",
      "Epoch 20/130\n",
      "25/25 [==============================] - 0s 4ms/step - loss: 0.5432 - val_loss: 0.6204\n",
      "Epoch 21/130\n",
      "25/25 [==============================] - 0s 4ms/step - loss: 0.5304 - val_loss: 0.6105\n",
      "Epoch 22/130\n",
      "25/25 [==============================] - 0s 4ms/step - loss: 0.5206 - val_loss: 0.6073\n",
      "Epoch 23/130\n",
      "25/25 [==============================] - 0s 4ms/step - loss: 0.5125 - val_loss: 0.5974\n",
      "Epoch 24/130\n",
      "25/25 [==============================] - 0s 4ms/step - loss: 0.4984 - val_loss: 0.5965\n",
      "Epoch 25/130\n",
      "25/25 [==============================] - 0s 4ms/step - loss: 0.4889 - val_loss: 0.5831\n",
      "Epoch 26/130\n",
      "25/25 [==============================] - 0s 4ms/step - loss: 0.4763 - val_loss: 0.5684\n",
      "Epoch 27/130\n",
      "25/25 [==============================] - 0s 4ms/step - loss: 0.4650 - val_loss: 0.5642\n",
      "Epoch 28/130\n",
      "25/25 [==============================] - 0s 4ms/step - loss: 0.4520 - val_loss: 0.5545\n",
      "Epoch 29/130\n",
      "25/25 [==============================] - 0s 4ms/step - loss: 0.4422 - val_loss: 0.5556\n",
      "Epoch 30/130\n",
      "25/25 [==============================] - 0s 4ms/step - loss: 0.4270 - val_loss: 0.5314\n",
      "Epoch 31/130\n",
      "25/25 [==============================] - 0s 3ms/step - loss: 0.4170 - val_loss: 0.5340\n",
      "Epoch 32/130\n",
      "25/25 [==============================] - 0s 4ms/step - loss: 0.4100 - val_loss: 0.5189\n",
      "Epoch 33/130\n",
      "25/25 [==============================] - 0s 4ms/step - loss: 0.3966 - val_loss: 0.5143\n",
      "Epoch 34/130\n",
      "25/25 [==============================] - 0s 3ms/step - loss: 0.3888 - val_loss: 0.5090\n",
      "Epoch 35/130\n",
      "25/25 [==============================] - 0s 4ms/step - loss: 0.3759 - val_loss: 0.5179\n",
      "Epoch 36/130\n",
      "25/25 [==============================] - 0s 3ms/step - loss: 0.3669 - val_loss: 0.4884\n",
      "Epoch 37/130\n",
      "25/25 [==============================] - 0s 4ms/step - loss: 0.3560 - val_loss: 0.4943\n",
      "Epoch 38/130\n",
      "25/25 [==============================] - 0s 4ms/step - loss: 0.3505 - val_loss: 0.4752\n",
      "Epoch 39/130\n",
      "25/25 [==============================] - 0s 3ms/step - loss: 0.3390 - val_loss: 0.4916\n",
      "Epoch 40/130\n",
      "25/25 [==============================] - 0s 3ms/step - loss: 0.3275 - val_loss: 0.4706\n",
      "Epoch 41/130\n",
      "25/25 [==============================] - 0s 4ms/step - loss: 0.3193 - val_loss: 0.4589\n",
      "Epoch 42/130\n",
      "25/25 [==============================] - 0s 3ms/step - loss: 0.3119 - val_loss: 0.4807\n",
      "Epoch 43/130\n",
      "25/25 [==============================] - 0s 4ms/step - loss: 0.3108 - val_loss: 0.4530\n",
      "Epoch 44/130\n",
      "25/25 [==============================] - 0s 4ms/step - loss: 0.3013 - val_loss: 0.4593\n",
      "Epoch 45/130\n",
      "25/25 [==============================] - 0s 4ms/step - loss: 0.2999 - val_loss: 0.4758\n",
      "Epoch 46/130\n",
      "25/25 [==============================] - 0s 4ms/step - loss: 0.2905 - val_loss: 0.4373\n",
      "Epoch 47/130\n",
      "25/25 [==============================] - 0s 4ms/step - loss: 0.2805 - val_loss: 0.4145\n",
      "Epoch 48/130\n",
      "25/25 [==============================] - 0s 4ms/step - loss: 0.2733 - val_loss: 0.4256\n",
      "Epoch 49/130\n",
      "25/25 [==============================] - 0s 4ms/step - loss: 0.2678 - val_loss: 0.4174\n",
      "Epoch 50/130\n",
      "25/25 [==============================] - 0s 4ms/step - loss: 0.2615 - val_loss: 0.4068\n",
      "Epoch 51/130\n",
      "25/25 [==============================] - 0s 4ms/step - loss: 0.2597 - val_loss: 0.4015\n",
      "Epoch 52/130\n",
      "25/25 [==============================] - 0s 4ms/step - loss: 0.2554 - val_loss: 0.4053\n",
      "Epoch 53/130\n",
      "25/25 [==============================] - 0s 4ms/step - loss: 0.2488 - val_loss: 0.4056\n",
      "Epoch 54/130\n",
      "25/25 [==============================] - 0s 4ms/step - loss: 0.2427 - val_loss: 0.3932\n",
      "Epoch 55/130\n",
      "25/25 [==============================] - 0s 4ms/step - loss: 0.2367 - val_loss: 0.3848\n",
      "Epoch 56/130\n",
      "25/25 [==============================] - 0s 4ms/step - loss: 0.2373 - val_loss: 0.4072\n",
      "Epoch 57/130\n",
      "25/25 [==============================] - 0s 4ms/step - loss: 0.2326 - val_loss: 0.3920\n",
      "Epoch 58/130\n",
      "25/25 [==============================] - 0s 4ms/step - loss: 0.2244 - val_loss: 0.3714\n",
      "Epoch 59/130\n",
      "25/25 [==============================] - 0s 3ms/step - loss: 0.2192 - val_loss: 0.3817\n",
      "Epoch 60/130\n",
      "25/25 [==============================] - 0s 4ms/step - loss: 0.2171 - val_loss: 0.3665\n",
      "Epoch 61/130\n",
      "25/25 [==============================] - 0s 4ms/step - loss: 0.2104 - val_loss: 0.3832\n",
      "Epoch 62/130\n",
      "25/25 [==============================] - 0s 4ms/step - loss: 0.2117 - val_loss: 0.3613\n",
      "Epoch 63/130\n",
      "25/25 [==============================] - 0s 4ms/step - loss: 0.2039 - val_loss: 0.3592\n",
      "Epoch 64/130\n",
      "25/25 [==============================] - 0s 4ms/step - loss: 0.2019 - val_loss: 0.3471\n",
      "Epoch 65/130\n",
      "25/25 [==============================] - 0s 5ms/step - loss: 0.1966 - val_loss: 0.3698\n",
      "Epoch 66/130\n",
      "25/25 [==============================] - 0s 5ms/step - loss: 0.2012 - val_loss: 0.3750\n",
      "Epoch 67/130\n",
      "25/25 [==============================] - 0s 4ms/step - loss: 0.1958 - val_loss: 0.3495\n",
      "Epoch 68/130\n",
      "25/25 [==============================] - 0s 5ms/step - loss: 0.1890 - val_loss: 0.3363\n",
      "Epoch 69/130\n",
      "25/25 [==============================] - 0s 4ms/step - loss: 0.1825 - val_loss: 0.3279\n",
      "Epoch 70/130\n",
      "25/25 [==============================] - 0s 5ms/step - loss: 0.1791 - val_loss: 0.3256\n",
      "Epoch 71/130\n",
      "25/25 [==============================] - 0s 4ms/step - loss: 0.1767 - val_loss: 0.3240\n",
      "Epoch 72/130\n",
      "25/25 [==============================] - 0s 4ms/step - loss: 0.1719 - val_loss: 0.3195\n",
      "Epoch 73/130\n",
      "25/25 [==============================] - 0s 4ms/step - loss: 0.1704 - val_loss: 0.3046\n",
      "Epoch 74/130\n",
      "25/25 [==============================] - 0s 4ms/step - loss: 0.1697 - val_loss: 0.3109\n",
      "Epoch 75/130\n",
      "25/25 [==============================] - 0s 4ms/step - loss: 0.1649 - val_loss: 0.3016\n",
      "Epoch 76/130\n",
      "25/25 [==============================] - 0s 4ms/step - loss: 0.1640 - val_loss: 0.3010\n",
      "Epoch 77/130\n",
      "25/25 [==============================] - 0s 3ms/step - loss: 0.1673 - val_loss: 0.2961\n",
      "Epoch 78/130\n",
      "25/25 [==============================] - 0s 3ms/step - loss: 0.1578 - val_loss: 0.2904\n",
      "Epoch 79/130\n",
      "25/25 [==============================] - 0s 5ms/step - loss: 0.1581 - val_loss: 0.2774\n",
      "Epoch 80/130\n",
      "25/25 [==============================] - 0s 3ms/step - loss: 0.1486 - val_loss: 0.2858\n",
      "Epoch 81/130\n",
      "25/25 [==============================] - 0s 4ms/step - loss: 0.1530 - val_loss: 0.2826\n",
      "Epoch 82/130\n",
      "25/25 [==============================] - 0s 4ms/step - loss: 0.1574 - val_loss: 0.2782\n",
      "Epoch 83/130\n"
     ]
    },
    {
     "name": "stdout",
     "output_type": "stream",
     "text": [
      "25/25 [==============================] - 0s 4ms/step - loss: 0.1452 - val_loss: 0.2665\n",
      "Epoch 84/130\n",
      "25/25 [==============================] - 0s 4ms/step - loss: 0.1396 - val_loss: 0.2691\n",
      "Epoch 85/130\n",
      "25/25 [==============================] - 0s 4ms/step - loss: 0.1368 - val_loss: 0.2825\n",
      "Epoch 86/130\n",
      "25/25 [==============================] - 0s 3ms/step - loss: 0.1323 - val_loss: 0.2601\n",
      "Epoch 87/130\n",
      "25/25 [==============================] - 0s 4ms/step - loss: 0.1317 - val_loss: 0.2552\n",
      "Epoch 88/130\n",
      "25/25 [==============================] - 0s 4ms/step - loss: 0.1286 - val_loss: 0.2535\n",
      "Epoch 89/130\n",
      "25/25 [==============================] - 0s 5ms/step - loss: 0.1261 - val_loss: 0.2553\n",
      "Epoch 90/130\n",
      "25/25 [==============================] - 0s 4ms/step - loss: 0.1216 - val_loss: 0.2492\n",
      "Epoch 91/130\n",
      "25/25 [==============================] - 0s 3ms/step - loss: 0.1193 - val_loss: 0.2401\n",
      "Epoch 92/130\n",
      "25/25 [==============================] - 0s 3ms/step - loss: 0.1183 - val_loss: 0.2405\n",
      "Epoch 93/130\n",
      "25/25 [==============================] - 0s 3ms/step - loss: 0.1147 - val_loss: 0.2378\n",
      "Epoch 94/130\n",
      "25/25 [==============================] - 0s 4ms/step - loss: 0.1144 - val_loss: 0.2310\n",
      "Epoch 95/130\n",
      "25/25 [==============================] - 0s 4ms/step - loss: 0.1119 - val_loss: 0.2307\n",
      "Epoch 96/130\n",
      "25/25 [==============================] - 0s 3ms/step - loss: 0.1126 - val_loss: 0.2256\n",
      "Epoch 97/130\n",
      "25/25 [==============================] - 0s 3ms/step - loss: 0.1121 - val_loss: 0.2337\n",
      "Epoch 98/130\n",
      "25/25 [==============================] - 0s 3ms/step - loss: 0.1060 - val_loss: 0.2205\n",
      "Epoch 99/130\n",
      "25/25 [==============================] - 0s 3ms/step - loss: 0.1034 - val_loss: 0.2173\n",
      "Epoch 100/130\n",
      "25/25 [==============================] - 0s 3ms/step - loss: 0.1050 - val_loss: 0.2224\n",
      "Epoch 101/130\n",
      "25/25 [==============================] - 0s 3ms/step - loss: 0.1031 - val_loss: 0.2139\n",
      "Epoch 102/130\n",
      "25/25 [==============================] - 0s 4ms/step - loss: 0.1025 - val_loss: 0.2131\n",
      "Epoch 103/130\n",
      "25/25 [==============================] - 0s 3ms/step - loss: 0.0996 - val_loss: 0.2241\n",
      "Epoch 104/130\n",
      "25/25 [==============================] - 0s 3ms/step - loss: 0.0952 - val_loss: 0.2092\n",
      "Epoch 105/130\n",
      "25/25 [==============================] - 0s 3ms/step - loss: 0.0966 - val_loss: 0.2097\n",
      "Epoch 106/130\n",
      "25/25 [==============================] - 0s 3ms/step - loss: 0.0945 - val_loss: 0.2035\n",
      "Epoch 107/130\n",
      "25/25 [==============================] - 0s 3ms/step - loss: 0.0909 - val_loss: 0.2008\n",
      "Epoch 108/130\n",
      "25/25 [==============================] - 0s 3ms/step - loss: 0.0895 - val_loss: 0.2047\n",
      "Epoch 109/130\n",
      "25/25 [==============================] - 0s 3ms/step - loss: 0.0902 - val_loss: 0.1975\n",
      "Epoch 110/130\n",
      "25/25 [==============================] - 0s 3ms/step - loss: 0.0888 - val_loss: 0.1963\n",
      "Epoch 111/130\n",
      "25/25 [==============================] - 0s 3ms/step - loss: 0.0878 - val_loss: 0.1968\n",
      "Epoch 112/130\n",
      "25/25 [==============================] - 0s 3ms/step - loss: 0.0854 - val_loss: 0.1981\n",
      "Epoch 113/130\n",
      "25/25 [==============================] - 0s 3ms/step - loss: 0.0830 - val_loss: 0.1990\n",
      "Epoch 114/130\n",
      "25/25 [==============================] - 0s 3ms/step - loss: 0.0808 - val_loss: 0.1920\n",
      "Epoch 115/130\n",
      "25/25 [==============================] - 0s 3ms/step - loss: 0.0808 - val_loss: 0.1914\n",
      "Epoch 116/130\n",
      "25/25 [==============================] - 0s 3ms/step - loss: 0.0782 - val_loss: 0.1870\n",
      "Epoch 117/130\n",
      "25/25 [==============================] - 0s 3ms/step - loss: 0.0775 - val_loss: 0.1856\n",
      "Epoch 118/130\n",
      "25/25 [==============================] - 0s 3ms/step - loss: 0.0773 - val_loss: 0.1947\n",
      "Epoch 119/130\n",
      "25/25 [==============================] - 0s 3ms/step - loss: 0.0787 - val_loss: 0.1859\n",
      "Epoch 120/130\n",
      "25/25 [==============================] - 0s 3ms/step - loss: 0.0778 - val_loss: 0.1792\n",
      "Epoch 121/130\n",
      "25/25 [==============================] - 0s 3ms/step - loss: 0.0722 - val_loss: 0.1779\n",
      "Epoch 122/130\n",
      "25/25 [==============================] - 0s 3ms/step - loss: 0.0711 - val_loss: 0.1770\n",
      "Epoch 123/130\n",
      "25/25 [==============================] - 0s 3ms/step - loss: 0.0757 - val_loss: 0.1844\n",
      "Epoch 124/130\n",
      "25/25 [==============================] - 0s 3ms/step - loss: 0.0726 - val_loss: 0.1778\n",
      "Epoch 125/130\n",
      "25/25 [==============================] - 0s 3ms/step - loss: 0.0688 - val_loss: 0.1713\n",
      "Epoch 126/130\n",
      "25/25 [==============================] - 0s 3ms/step - loss: 0.0668 - val_loss: 0.1729\n",
      "Epoch 127/130\n",
      "25/25 [==============================] - 0s 3ms/step - loss: 0.0665 - val_loss: 0.1800\n",
      "Epoch 128/130\n",
      "25/25 [==============================] - 0s 3ms/step - loss: 0.0632 - val_loss: 0.1676\n",
      "Epoch 129/130\n",
      "25/25 [==============================] - 0s 3ms/step - loss: 0.0654 - val_loss: 0.1735\n",
      "Epoch 130/130\n",
      "25/25 [==============================] - 0s 3ms/step - loss: 0.0641 - val_loss: 0.1658\n"
     ]
    },
    {
     "data": {
      "text/plain": [
       "<keras.src.callbacks.History at 0x1be1865a990>"
      ]
     },
     "execution_count": 215,
     "metadata": {},
     "output_type": "execute_result"
    }
   ],
   "source": [
    "model.fit(x=x_train,y=y_train,validation_data=(x_test,y_test),epochs=130,verbose=1)"
   ]
  },
  {
   "cell_type": "code",
   "execution_count": 216,
   "id": "8f375914",
   "metadata": {},
   "outputs": [],
   "source": [
    "kayipVerisi=pd.DataFrame(model.history.history)"
   ]
  },
  {
   "cell_type": "code",
   "execution_count": 217,
   "id": "519c48e2",
   "metadata": {},
   "outputs": [
    {
     "data": {
      "text/plain": [
       "<Axes: >"
      ]
     },
     "execution_count": 217,
     "metadata": {},
     "output_type": "execute_result"
    },
    {
     "data": {
      "image/png": "[encoded data removed]",
      "text/plain": [
       "<Figure size 640x480 with 1 Axes>"
      ]
     },
     "metadata": {},
     "output_type": "display_data"
    }
   ],
   "source": [
    "kayipVerisi.plot()"
   ]
  },
  {
   "cell_type": "code",
   "execution_count": 218,
   "id": "c70e12bf",
   "metadata": {},
   "outputs": [],
   "source": [
    "from sklearn.metrics import mean_absolute_error, mean_squared_error"
   ]
  },
  {
   "cell_type": "code",
   "execution_count": 219,
   "id": "6449e2d3",
   "metadata": {},
   "outputs": [
    {
     "name": "stdout",
     "output_type": "stream",
     "text": [
      "7/7 [==============================] - 0s 2ms/step\n"
     ]
    }
   ],
   "source": [
    "tahminDizisi=model.predict(x_test)"
   ]
  },
  {
   "cell_type": "code",
   "execution_count": 220,
   "id": "70487327",
   "metadata": {},
   "outputs": [
    {
     "name": "stdout",
     "output_type": "stream",
     "text": [
      "Ortalama mutlak hata:  0.27303700167685746\n",
      "Ortalama kare hatası:  0.16582929746591407\n"
     ]
    }
   ],
   "source": [
    "mae=mean_absolute_error(y_test,tahminDizisi)\n",
    "mse=mean_squared_error(y_test,tahminDizisi)\n",
    "print(\"Ortalama mutlak hata: \",mae)\n",
    "print(\"Ortalama kare hatası: \",mse)"
   ]
  },
  {
   "cell_type": "code",
   "execution_count": 221,
   "id": "f5e84ef3",
   "metadata": {},
   "outputs": [],
   "source": [
    "tahminDf=pd.DataFrame(y_test,columns=[\"Gerçek Değerler\"])"
   ]
  },
  {
   "cell_type": "code",
   "execution_count": 222,
   "id": "26ef1514",
   "metadata": {},
   "outputs": [
    {
     "data": {
      "text/plain": [
       "(200, 1)"
      ]
     },
     "execution_count": 222,
     "metadata": {},
     "output_type": "execute_result"
    }
   ],
   "source": [
    "tahminDizisi.shape"
   ]
  },
  {
   "cell_type": "code",
   "execution_count": 223,
   "id": "12162734",
   "metadata": {},
   "outputs": [],
   "source": [
    "testDizisi=pd.Series(tahminDizisi.reshape(200,))"
   ]
  },
  {
   "cell_type": "code",
   "execution_count": 224,
   "id": "194f542d",
   "metadata": {},
   "outputs": [],
   "source": [
    "yuvarlanmis_degerler=[]\n",
    "for value in testDizisi:\n",
    "    rounded_num = round(value, 2)\n",
    "    if rounded_num<=0.49:\n",
    "        yuvarlanmis_degerler.append(0)\n",
    "    elif (rounded_num>=0.50) and (rounded_num<=1.49):\n",
    "        yuvarlanmis_degerler.append(1)\n",
    "    elif (rounded_num>=1.50) and (rounded_num<=2.49):\n",
    "        yuvarlanmis_degerler.append(2)\n",
    "    else:\n",
    "        yuvarlanmis_degerler.append(3)\n",
    "        \n",
    "testDizisi=pd.Series(yuvarlanmis_degerler)"
   ]
  },
  {
   "cell_type": "code",
   "execution_count": 225,
   "id": "1285b3d3",
   "metadata": {},
   "outputs": [],
   "source": [
    "tahminDf=pd.concat([tahminDf,testDizisi],axis=1)"
   ]
  },
  {
   "cell_type": "code",
   "execution_count": 226,
   "id": "d7e8cb8a",
   "metadata": {},
   "outputs": [],
   "source": [
    "tahminDf.columns=[\"Gerçek Değer\",\"Tahmin Değerleri\"]"
   ]
  },
  {
   "cell_type": "code",
   "execution_count": 227,
   "id": "d145f0be",
   "metadata": {},
   "outputs": [
    {
     "data": {
      "text/html": [
       "<div>\n",
       "<style scoped>\n",
       "    .dataframe tbody tr th:only-of-type {\n",
       "        vertical-align: middle;\n",
       "    }\n",
       "\n",
       "    .dataframe tbody tr th {\n",
       "        vertical-align: top;\n",
       "    }\n",
       "\n",
       "    .dataframe thead th {\n",
       "        text-align: right;\n",
       "    }\n",
       "</style>\n",
       "<table border=\"1\" class=\"dataframe\">\n",
       "  <thead>\n",
       "    <tr style=\"text-align: right;\">\n",
       "      <th></th>\n",
       "      <th>Gerçek Değer</th>\n",
       "      <th>Tahmin Değerleri</th>\n",
       "    </tr>\n",
       "  </thead>\n",
       "  <tbody>\n",
       "    <tr>\n",
       "      <th>0</th>\n",
       "      <td>0</td>\n",
       "      <td>0</td>\n",
       "    </tr>\n",
       "    <tr>\n",
       "      <th>1</th>\n",
       "      <td>0</td>\n",
       "      <td>0</td>\n",
       "    </tr>\n",
       "    <tr>\n",
       "      <th>2</th>\n",
       "      <td>0</td>\n",
       "      <td>0</td>\n",
       "    </tr>\n",
       "    <tr>\n",
       "      <th>3</th>\n",
       "      <td>2</td>\n",
       "      <td>1</td>\n",
       "    </tr>\n",
       "    <tr>\n",
       "      <th>4</th>\n",
       "      <td>2</td>\n",
       "      <td>2</td>\n",
       "    </tr>\n",
       "    <tr>\n",
       "      <th>5</th>\n",
       "      <td>0</td>\n",
       "      <td>0</td>\n",
       "    </tr>\n",
       "    <tr>\n",
       "      <th>6</th>\n",
       "      <td>0</td>\n",
       "      <td>0</td>\n",
       "    </tr>\n",
       "    <tr>\n",
       "      <th>7</th>\n",
       "      <td>2</td>\n",
       "      <td>2</td>\n",
       "    </tr>\n",
       "    <tr>\n",
       "      <th>8</th>\n",
       "      <td>2</td>\n",
       "      <td>2</td>\n",
       "    </tr>\n",
       "    <tr>\n",
       "      <th>9</th>\n",
       "      <td>0</td>\n",
       "      <td>1</td>\n",
       "    </tr>\n",
       "    <tr>\n",
       "      <th>10</th>\n",
       "      <td>2</td>\n",
       "      <td>1</td>\n",
       "    </tr>\n",
       "    <tr>\n",
       "      <th>11</th>\n",
       "      <td>2</td>\n",
       "      <td>2</td>\n",
       "    </tr>\n",
       "    <tr>\n",
       "      <th>12</th>\n",
       "      <td>0</td>\n",
       "      <td>0</td>\n",
       "    </tr>\n",
       "    <tr>\n",
       "      <th>13</th>\n",
       "      <td>0</td>\n",
       "      <td>0</td>\n",
       "    </tr>\n",
       "    <tr>\n",
       "      <th>14</th>\n",
       "      <td>0</td>\n",
       "      <td>0</td>\n",
       "    </tr>\n",
       "    <tr>\n",
       "      <th>15</th>\n",
       "      <td>1</td>\n",
       "      <td>1</td>\n",
       "    </tr>\n",
       "    <tr>\n",
       "      <th>16</th>\n",
       "      <td>0</td>\n",
       "      <td>0</td>\n",
       "    </tr>\n",
       "    <tr>\n",
       "      <th>17</th>\n",
       "      <td>2</td>\n",
       "      <td>2</td>\n",
       "    </tr>\n",
       "    <tr>\n",
       "      <th>18</th>\n",
       "      <td>0</td>\n",
       "      <td>0</td>\n",
       "    </tr>\n",
       "    <tr>\n",
       "      <th>19</th>\n",
       "      <td>2</td>\n",
       "      <td>1</td>\n",
       "    </tr>\n",
       "  </tbody>\n",
       "</table>\n",
       "</div>"
      ],
      "text/plain": [
       "    Gerçek Değer  Tahmin Değerleri\n",
       "0              0                 0\n",
       "1              0                 0\n",
       "2              0                 0\n",
       "3              2                 1\n",
       "4              2                 2\n",
       "5              0                 0\n",
       "6              0                 0\n",
       "7              2                 2\n",
       "8              2                 2\n",
       "9              0                 1\n",
       "10             2                 1\n",
       "11             2                 2\n",
       "12             0                 0\n",
       "13             0                 0\n",
       "14             0                 0\n",
       "15             1                 1\n",
       "16             0                 0\n",
       "17             2                 2\n",
       "18             0                 0\n",
       "19             2                 1"
      ]
     },
     "execution_count": 227,
     "metadata": {},
     "output_type": "execute_result"
    }
   ],
   "source": [
    "tahminDf.head(20)"
   ]
  }
 ],
 "metadata": {
  "kernelspec": {
   "display_name": "Python 3 (ipykernel)",
   "language": "python",
   "name": "python3"
  },
  "language_info": {
   "codemirror_mode": {
    "name": "ipython",
    "version": 3
   },
   "file_extension": ".py",
   "mimetype": "text/x-python",
   "name": "python",
   "nbconvert_exporter": "python",
   "pygments_lexer": "ipython3",
   "version": "3.11.4"
  }
 },
 "nbformat": 4,
 "nbformat_minor": 5
}
